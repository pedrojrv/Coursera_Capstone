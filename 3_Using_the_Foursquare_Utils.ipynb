{
 "cells": [
  {
   "cell_type": "markdown",
   "metadata": {},
   "source": [
    "# Getting Coordinate for Cities"
   ]
  },
  {
   "cell_type": "code",
   "execution_count": 5,
   "metadata": {},
   "outputs": [],
   "source": [
    "import geopy_utils"
   ]
  },
  {
   "cell_type": "code",
   "execution_count": 6,
   "metadata": {},
   "outputs": [
    {
     "name": "stdout",
     "output_type": "stream",
     "text": [
      "Gathering location information...\n",
      "Finished.\n"
     ]
    },
    {
     "data": {
      "text/html": [
       "<div>\n",
       "<style scoped>\n",
       "    .dataframe tbody tr th:only-of-type {\n",
       "        vertical-align: middle;\n",
       "    }\n",
       "\n",
       "    .dataframe tbody tr th {\n",
       "        vertical-align: top;\n",
       "    }\n",
       "\n",
       "    .dataframe thead th {\n",
       "        text-align: right;\n",
       "    }\n",
       "</style>\n",
       "<table border=\"1\" class=\"dataframe\">\n",
       "  <thead>\n",
       "    <tr style=\"text-align: right;\">\n",
       "      <th></th>\n",
       "      <th>Cities</th>\n",
       "      <th>Latitude</th>\n",
       "      <th>Longitude</th>\n",
       "    </tr>\n",
       "  </thead>\n",
       "  <tbody>\n",
       "    <tr>\n",
       "      <th>0</th>\n",
       "      <td>San Francisco, California</td>\n",
       "      <td>37.787514</td>\n",
       "      <td>-122.407159</td>\n",
       "    </tr>\n",
       "    <tr>\n",
       "      <th>0</th>\n",
       "      <td>Denver, Colorado</td>\n",
       "      <td>39.751770</td>\n",
       "      <td>-105.013873</td>\n",
       "    </tr>\n",
       "    <tr>\n",
       "      <th>0</th>\n",
       "      <td>Seattle, Washington</td>\n",
       "      <td>47.604949</td>\n",
       "      <td>-122.333274</td>\n",
       "    </tr>\n",
       "    <tr>\n",
       "      <th>0</th>\n",
       "      <td>Los Angeles, California</td>\n",
       "      <td>34.042849</td>\n",
       "      <td>-118.247673</td>\n",
       "    </tr>\n",
       "    <tr>\n",
       "      <th>0</th>\n",
       "      <td>New York City, NY</td>\n",
       "      <td>40.599756</td>\n",
       "      <td>-73.946390</td>\n",
       "    </tr>\n",
       "    <tr>\n",
       "      <th>0</th>\n",
       "      <td>Chicago, Illinois</td>\n",
       "      <td>41.881644</td>\n",
       "      <td>-87.632095</td>\n",
       "    </tr>\n",
       "    <tr>\n",
       "      <th>0</th>\n",
       "      <td>Austin, Texas</td>\n",
       "      <td>30.268054</td>\n",
       "      <td>-97.744764</td>\n",
       "    </tr>\n",
       "    <tr>\n",
       "      <th>0</th>\n",
       "      <td>Boston, Massachusetts</td>\n",
       "      <td>42.358602</td>\n",
       "      <td>-71.063875</td>\n",
       "    </tr>\n",
       "  </tbody>\n",
       "</table>\n",
       "</div>"
      ],
      "text/plain": [
       "                      Cities   Latitude   Longitude\n",
       "0  San Francisco, California  37.787514 -122.407159\n",
       "0           Denver, Colorado  39.751770 -105.013873\n",
       "0        Seattle, Washington  47.604949 -122.333274\n",
       "0    Los Angeles, California  34.042849 -118.247673\n",
       "0          New York City, NY  40.599756  -73.946390\n",
       "0          Chicago, Illinois  41.881644  -87.632095\n",
       "0              Austin, Texas  30.268054  -97.744764\n",
       "0      Boston, Massachusetts  42.358602  -71.063875"
      ]
     },
     "execution_count": 6,
     "metadata": {},
     "output_type": "execute_result"
    }
   ],
   "source": [
    "cities_list = [\"San Francisco, California\", \n",
    "               \"Denver, Colorado\", \n",
    "               \"Seattle, Washington\", \n",
    "               \"Los Angeles, California\", \n",
    "               \"New York City, NY\", \n",
    "               \"Chicago, Illinois\", \n",
    "               \"Austin, Texas\", \n",
    "               \"Boston, Massachusetts\"]\n",
    "cities = geopy_utils.get_coordinates_df(cities_list)\n",
    "cities"
   ]
  },
  {
   "cell_type": "markdown",
   "metadata": {},
   "source": [
    "# Setting up Foursquare API"
   ]
  },
  {
   "cell_type": "code",
   "execution_count": 10,
   "metadata": {},
   "outputs": [],
   "source": [
    "import config\n",
    "import foursquare_utils"
   ]
  },
  {
   "cell_type": "code",
   "execution_count": 11,
   "metadata": {},
   "outputs": [],
   "source": [
    "# Defining credentials and version\n",
    "CLIENT_ID = config.CLIENT_ID # your Foursquare ID\n",
    "CLIENT_SECRET = config.CLIENT_SECRET # your Foursquare Secret\n",
    "VERSION = '20180604'"
   ]
  },
  {
   "cell_type": "code",
   "execution_count": 12,
   "metadata": {},
   "outputs": [],
   "source": [
    "results_dir = \"Example/\""
   ]
  },
  {
   "cell_type": "code",
   "execution_count": 13,
   "metadata": {},
   "outputs": [
    {
     "name": "stdout",
     "output_type": "stream",
     "text": [
      "Directory does not exists. Initializing...\n",
      "Gathering location information...\n",
      "Finished.\n",
      "Gathering venues in  San Francisco\n",
      "Gathering venues in  Denver\n",
      "Gathering venues in  Seattle\n",
      "Gathering venues in  Los Angeles\n",
      "Gathering venues in  New York City\n",
      "Gathering venues in  Chicago\n",
      "Gathering venues in  Austin\n",
      "Gathering venues in  Boston\n"
     ]
    },
    {
     "name": "stderr",
     "output_type": "stream",
     "text": [
      "/Users/pedrovicentevaldez/Desktop/TechHub_Cities_Comparison/foursquare_utils.py:93: FutureWarning: pandas.io.json.json_normalize is deprecated, use pandas.json_normalize instead\n",
      "  rating = json_normalize(data_rat)\n"
     ]
    },
    {
     "name": "stdout",
     "output_type": "stream",
     "text": [
      "There are 56 uniques venue categories.\n",
      "Finished\n"
     ]
    }
   ],
   "source": [
    "foursquare_utils.get_analysis_per_city(cities_list, num_venues=10, radius=1000, clusters=3, saving_dir=results_dir)"
   ]
  },
  {
   "cell_type": "code",
   "execution_count": null,
   "metadata": {},
   "outputs": [],
   "source": []
  }
 ],
 "metadata": {
  "kernelspec": {
   "display_name": "Python 3",
   "language": "python",
   "name": "python3"
  },
  "language_info": {
   "codemirror_mode": {
    "name": "ipython",
    "version": 3
   },
   "file_extension": ".py",
   "mimetype": "text/x-python",
   "name": "python",
   "nbconvert_exporter": "python",
   "pygments_lexer": "ipython3",
   "version": "3.7.8"
  }
 },
 "nbformat": 4,
 "nbformat_minor": 4
}
