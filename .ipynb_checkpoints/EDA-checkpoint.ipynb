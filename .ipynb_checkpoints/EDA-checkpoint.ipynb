{
 "cells": [
  {
   "cell_type": "markdown",
   "metadata": {},
   "source": [
    "# EDA"
   ]
  },
  {
   "cell_type": "code",
   "execution_count": 1,
   "metadata": {},
   "outputs": [],
   "source": [
    "import pandas as pd\n",
    "import numpy as np"
   ]
  },
  {
   "cell_type": "code",
   "execution_count": 2,
   "metadata": {},
   "outputs": [],
   "source": [
    "df = pd.read_csv(\"cities_venues.csv\")"
   ]
  },
  {
   "cell_type": "code",
   "execution_count": 3,
   "metadata": {},
   "outputs": [
    {
     "data": {
      "text/html": [
       "<div>\n",
       "<style scoped>\n",
       "    .dataframe tbody tr th:only-of-type {\n",
       "        vertical-align: middle;\n",
       "    }\n",
       "\n",
       "    .dataframe tbody tr th {\n",
       "        vertical-align: top;\n",
       "    }\n",
       "\n",
       "    .dataframe thead th {\n",
       "        text-align: right;\n",
       "    }\n",
       "</style>\n",
       "<table border=\"1\" class=\"dataframe\">\n",
       "  <thead>\n",
       "    <tr style=\"text-align: right;\">\n",
       "      <th></th>\n",
       "      <th>City</th>\n",
       "      <th>City Latitude</th>\n",
       "      <th>City Longitude</th>\n",
       "      <th>Venue</th>\n",
       "      <th>id</th>\n",
       "      <th>Venue Latitude</th>\n",
       "      <th>Venue Longitude</th>\n",
       "      <th>Venue Category</th>\n",
       "      <th>Venue Rating</th>\n",
       "    </tr>\n",
       "  </thead>\n",
       "  <tbody>\n",
       "    <tr>\n",
       "      <th>0</th>\n",
       "      <td>San Francisco</td>\n",
       "      <td>37.787514</td>\n",
       "      <td>-122.407159</td>\n",
       "      <td>Maison Margiela</td>\n",
       "      <td>551cfcaf498e23f2c0115449</td>\n",
       "      <td>37.788261</td>\n",
       "      <td>-122.405765</td>\n",
       "      <td>Boutique</td>\n",
       "      <td>9.2</td>\n",
       "    </tr>\n",
       "    <tr>\n",
       "      <th>1</th>\n",
       "      <td>San Francisco</td>\n",
       "      <td>37.787514</td>\n",
       "      <td>-122.407159</td>\n",
       "      <td>Saint Laurent</td>\n",
       "      <td>528d4fe211d2543b7663f4fd</td>\n",
       "      <td>37.787774</td>\n",
       "      <td>-122.405412</td>\n",
       "      <td>Boutique</td>\n",
       "      <td>9.2</td>\n",
       "    </tr>\n",
       "    <tr>\n",
       "      <th>2</th>\n",
       "      <td>San Francisco</td>\n",
       "      <td>37.787514</td>\n",
       "      <td>-122.407159</td>\n",
       "      <td>Williams-Sonoma</td>\n",
       "      <td>4aa45625f964a5207b4620e3</td>\n",
       "      <td>37.788377</td>\n",
       "      <td>-122.407446</td>\n",
       "      <td>Kitchen Supply Store</td>\n",
       "      <td>8.9</td>\n",
       "    </tr>\n",
       "    <tr>\n",
       "      <th>3</th>\n",
       "      <td>San Francisco</td>\n",
       "      <td>37.787514</td>\n",
       "      <td>-122.407159</td>\n",
       "      <td>Tiffany &amp; Co.</td>\n",
       "      <td>4a791992f964a520efe61fe3</td>\n",
       "      <td>37.788598</td>\n",
       "      <td>-122.407708</td>\n",
       "      <td>Jewelry Store</td>\n",
       "      <td>8.9</td>\n",
       "    </tr>\n",
       "    <tr>\n",
       "      <th>4</th>\n",
       "      <td>San Francisco</td>\n",
       "      <td>37.787514</td>\n",
       "      <td>-122.407159</td>\n",
       "      <td>The Archive</td>\n",
       "      <td>4b4bd8caf964a5207ba926e3</td>\n",
       "      <td>37.789494</td>\n",
       "      <td>-122.405766</td>\n",
       "      <td>Men's Store</td>\n",
       "      <td>9.3</td>\n",
       "    </tr>\n",
       "  </tbody>\n",
       "</table>\n",
       "</div>"
      ],
      "text/plain": [
       "            City  City Latitude  City Longitude            Venue  \\\n",
       "0  San Francisco      37.787514     -122.407159  Maison Margiela   \n",
       "1  San Francisco      37.787514     -122.407159    Saint Laurent   \n",
       "2  San Francisco      37.787514     -122.407159  Williams-Sonoma   \n",
       "3  San Francisco      37.787514     -122.407159    Tiffany & Co.   \n",
       "4  San Francisco      37.787514     -122.407159      The Archive   \n",
       "\n",
       "                         id  Venue Latitude  Venue Longitude  \\\n",
       "0  551cfcaf498e23f2c0115449       37.788261      -122.405765   \n",
       "1  528d4fe211d2543b7663f4fd       37.787774      -122.405412   \n",
       "2  4aa45625f964a5207b4620e3       37.788377      -122.407446   \n",
       "3  4a791992f964a520efe61fe3       37.788598      -122.407708   \n",
       "4  4b4bd8caf964a5207ba926e3       37.789494      -122.405766   \n",
       "\n",
       "         Venue Category  Venue Rating  \n",
       "0              Boutique           9.2  \n",
       "1              Boutique           9.2  \n",
       "2  Kitchen Supply Store           8.9  \n",
       "3         Jewelry Store           8.9  \n",
       "4           Men's Store           9.3  "
      ]
     },
     "execution_count": 3,
     "metadata": {},
     "output_type": "execute_result"
    }
   ],
   "source": [
    "df.head()"
   ]
  },
  {
   "cell_type": "code",
   "execution_count": 4,
   "metadata": {},
   "outputs": [
    {
     "data": {
      "text/html": [
       "<div>\n",
       "<style scoped>\n",
       "    .dataframe tbody tr th:only-of-type {\n",
       "        vertical-align: middle;\n",
       "    }\n",
       "\n",
       "    .dataframe tbody tr th {\n",
       "        vertical-align: top;\n",
       "    }\n",
       "\n",
       "    .dataframe thead th {\n",
       "        text-align: right;\n",
       "    }\n",
       "</style>\n",
       "<table border=\"1\" class=\"dataframe\">\n",
       "  <thead>\n",
       "    <tr style=\"text-align: right;\">\n",
       "      <th></th>\n",
       "      <th>City Latitude</th>\n",
       "      <th>City Longitude</th>\n",
       "      <th>Venue Latitude</th>\n",
       "      <th>Venue Longitude</th>\n",
       "      <th>Venue Rating</th>\n",
       "    </tr>\n",
       "  </thead>\n",
       "  <tbody>\n",
       "    <tr>\n",
       "      <th>City Latitude</th>\n",
       "      <td>1.000000</td>\n",
       "      <td>0.097849</td>\n",
       "      <td>1.000000</td>\n",
       "      <td>0.097829</td>\n",
       "      <td>-0.186528</td>\n",
       "    </tr>\n",
       "    <tr>\n",
       "      <th>City Longitude</th>\n",
       "      <td>0.097849</td>\n",
       "      <td>1.000000</td>\n",
       "      <td>0.097849</td>\n",
       "      <td>1.000000</td>\n",
       "      <td>-0.329458</td>\n",
       "    </tr>\n",
       "    <tr>\n",
       "      <th>Venue Latitude</th>\n",
       "      <td>1.000000</td>\n",
       "      <td>0.097849</td>\n",
       "      <td>1.000000</td>\n",
       "      <td>0.097829</td>\n",
       "      <td>-0.186472</td>\n",
       "    </tr>\n",
       "    <tr>\n",
       "      <th>Venue Longitude</th>\n",
       "      <td>0.097829</td>\n",
       "      <td>1.000000</td>\n",
       "      <td>0.097829</td>\n",
       "      <td>1.000000</td>\n",
       "      <td>-0.329482</td>\n",
       "    </tr>\n",
       "    <tr>\n",
       "      <th>Venue Rating</th>\n",
       "      <td>-0.186528</td>\n",
       "      <td>-0.329458</td>\n",
       "      <td>-0.186472</td>\n",
       "      <td>-0.329482</td>\n",
       "      <td>1.000000</td>\n",
       "    </tr>\n",
       "  </tbody>\n",
       "</table>\n",
       "</div>"
      ],
      "text/plain": [
       "                 City Latitude  City Longitude  Venue Latitude  \\\n",
       "City Latitude         1.000000        0.097849        1.000000   \n",
       "City Longitude        0.097849        1.000000        0.097849   \n",
       "Venue Latitude        1.000000        0.097849        1.000000   \n",
       "Venue Longitude       0.097829        1.000000        0.097829   \n",
       "Venue Rating         -0.186528       -0.329458       -0.186472   \n",
       "\n",
       "                 Venue Longitude  Venue Rating  \n",
       "City Latitude           0.097829     -0.186528  \n",
       "City Longitude          1.000000     -0.329458  \n",
       "Venue Latitude          0.097829     -0.186472  \n",
       "Venue Longitude         1.000000     -0.329482  \n",
       "Venue Rating           -0.329482      1.000000  "
      ]
     },
     "execution_count": 4,
     "metadata": {},
     "output_type": "execute_result"
    }
   ],
   "source": [
    "df.corr()"
   ]
  },
  {
   "cell_type": "code",
   "execution_count": 6,
   "metadata": {},
   "outputs": [
    {
     "data": {
      "text/plain": [
       "array([[<matplotlib.axes._subplots.AxesSubplot object at 0x000002A5D241A388>,\n",
       "        <matplotlib.axes._subplots.AxesSubplot object at 0x000002A5D26DD448>],\n",
       "       [<matplotlib.axes._subplots.AxesSubplot object at 0x000002A5D2742CC8>,\n",
       "        <matplotlib.axes._subplots.AxesSubplot object at 0x000002A5D279DD08>],\n",
       "       [<matplotlib.axes._subplots.AxesSubplot object at 0x000002A5D27EF948>,\n",
       "        <matplotlib.axes._subplots.AxesSubplot object at 0x000002A5D284ACC8>]],\n",
       "      dtype=object)"
      ]
     },
     "execution_count": 6,
     "metadata": {},
     "output_type": "execute_result"
    },
    {
     "data": {
      "image/png": "[encoded data removed]",
      "text/plain": [
       "<Figure size 432x288 with 6 Axes>"
      ]
     },
     "metadata": {
      "needs_background": "light"
     },
     "output_type": "display_data"
    }
   ],
   "source": [
    "df.hist()"
   ]
  },
  {
   "cell_type": "code",
   "execution_count": 7,
   "metadata": {},
   "outputs": [
    {
     "data": {
      "text/plain": [
       "<matplotlib.axes._subplots.AxesSubplot at 0x2a5d28ac1c8>"
      ]
     },
     "execution_count": 7,
     "metadata": {},
     "output_type": "execute_result"
    },
    {
     "data": {
      "image/png": "[encoded data removed]",
      "text/plain": [
       "<Figure size 432x288 with 1 Axes>"
      ]
     },
     "metadata": {
      "needs_background": "light"
     },
     "output_type": "display_data"
    }
   ],
   "source": [
    "df[\"Venue Rating\"].hist()"
   ]
  },
  {
   "cell_type": "code",
   "execution_count": null,
   "metadata": {},
   "outputs": [],
   "source": []
  }
 ],
 "metadata": {
  "kernelspec": {
   "display_name": "Python 3",
   "language": "python",
   "name": "python3"
  },
  "language_info": {
   "codemirror_mode": {
    "name": "ipython",
    "version": 3
   },
   "file_extension": ".py",
   "mimetype": "text/x-python",
   "name": "python",
   "nbconvert_exporter": "python",
   "pygments_lexer": "ipython3",
   "version": "3.7.8"
  }
 },
 "nbformat": 4,
 "nbformat_minor": 4
}
