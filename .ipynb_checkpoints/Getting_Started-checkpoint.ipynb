{
 "cells": [
  {
   "cell_type": "markdown",
   "metadata": {},
   "source": [
    "# Getting Coordinate for Cities"
   ]
  },
  {
   "cell_type": "code",
   "execution_count": 2,
   "metadata": {},
   "outputs": [],
   "source": [
    "from src import geopy_utils"
   ]
  },
  {
   "cell_type": "code",
   "execution_count": 4,
   "metadata": {},
   "outputs": [
    {
     "name": "stdout",
     "output_type": "stream",
     "text": [
      "Gathering location information...\n",
      "Finished.\n"
     ]
    },
    {
     "data": {
      "text/html": [
       "<div>\n",
       "<style scoped>\n",
       "    .dataframe tbody tr th:only-of-type {\n",
       "        vertical-align: middle;\n",
       "    }\n",
       "\n",
       "    .dataframe tbody tr th {\n",
       "        vertical-align: top;\n",
       "    }\n",
       "\n",
       "    .dataframe thead th {\n",
       "        text-align: right;\n",
       "    }\n",
       "</style>\n",
       "<table border=\"1\" class=\"dataframe\">\n",
       "  <thead>\n",
       "    <tr style=\"text-align: right;\">\n",
       "      <th></th>\n",
       "      <th>Cities</th>\n",
       "      <th>Latitude</th>\n",
       "      <th>Longitude</th>\n",
       "    </tr>\n",
       "  </thead>\n",
       "  <tbody>\n",
       "    <tr>\n",
       "      <th>0</th>\n",
       "      <td>San Francisco, California</td>\n",
       "      <td>37.787514</td>\n",
       "      <td>-122.407159</td>\n",
       "    </tr>\n",
       "    <tr>\n",
       "      <th>0</th>\n",
       "      <td>Denver, Colorado</td>\n",
       "      <td>39.751770</td>\n",
       "      <td>-105.013873</td>\n",
       "    </tr>\n",
       "    <tr>\n",
       "      <th>0</th>\n",
       "      <td>Seattle, Washington</td>\n",
       "      <td>47.604949</td>\n",
       "      <td>-122.333274</td>\n",
       "    </tr>\n",
       "    <tr>\n",
       "      <th>0</th>\n",
       "      <td>Los Angeles, California</td>\n",
       "      <td>34.042849</td>\n",
       "      <td>-118.247673</td>\n",
       "    </tr>\n",
       "    <tr>\n",
       "      <th>0</th>\n",
       "      <td>New York City, NY</td>\n",
       "      <td>42.649977</td>\n",
       "      <td>-73.751982</td>\n",
       "    </tr>\n",
       "    <tr>\n",
       "      <th>0</th>\n",
       "      <td>Chicago, Illinois</td>\n",
       "      <td>41.881644</td>\n",
       "      <td>-87.632095</td>\n",
       "    </tr>\n",
       "    <tr>\n",
       "      <th>0</th>\n",
       "      <td>Austin, Texas</td>\n",
       "      <td>30.268054</td>\n",
       "      <td>-97.744764</td>\n",
       "    </tr>\n",
       "    <tr>\n",
       "      <th>0</th>\n",
       "      <td>Boston, Massachusetts</td>\n",
       "      <td>42.351871</td>\n",
       "      <td>-71.067565</td>\n",
       "    </tr>\n",
       "    <tr>\n",
       "      <th>0</th>\n",
       "      <td>Houston, Texas</td>\n",
       "      <td>29.764282</td>\n",
       "      <td>-95.367413</td>\n",
       "    </tr>\n",
       "    <tr>\n",
       "      <th>0</th>\n",
       "      <td>Phoenix, Arizona</td>\n",
       "      <td>33.451813</td>\n",
       "      <td>-111.992733</td>\n",
       "    </tr>\n",
       "    <tr>\n",
       "      <th>0</th>\n",
       "      <td>San Antonio, Texas</td>\n",
       "      <td>29.425719</td>\n",
       "      <td>-98.489202</td>\n",
       "    </tr>\n",
       "    <tr>\n",
       "      <th>0</th>\n",
       "      <td>San Diego, California</td>\n",
       "      <td>33.122034</td>\n",
       "      <td>-117.082374</td>\n",
       "    </tr>\n",
       "    <tr>\n",
       "      <th>0</th>\n",
       "      <td>Dallas, Texas</td>\n",
       "      <td>32.780154</td>\n",
       "      <td>-96.799074</td>\n",
       "    </tr>\n",
       "  </tbody>\n",
       "</table>\n",
       "</div>"
      ],
      "text/plain": [
       "                      Cities   Latitude   Longitude\n",
       "0  San Francisco, California  37.787514 -122.407159\n",
       "0           Denver, Colorado  39.751770 -105.013873\n",
       "0        Seattle, Washington  47.604949 -122.333274\n",
       "0    Los Angeles, California  34.042849 -118.247673\n",
       "0          New York City, NY  42.649977  -73.751982\n",
       "0          Chicago, Illinois  41.881644  -87.632095\n",
       "0              Austin, Texas  30.268054  -97.744764\n",
       "0      Boston, Massachusetts  42.351871  -71.067565\n",
       "0             Houston, Texas  29.764282  -95.367413\n",
       "0           Phoenix, Arizona  33.451813 -111.992733\n",
       "0         San Antonio, Texas  29.425719  -98.489202\n",
       "0      San Diego, California  33.122034 -117.082374\n",
       "0              Dallas, Texas  32.780154  -96.799074"
      ]
     },
     "execution_count": 4,
     "metadata": {},
     "output_type": "execute_result"
    }
   ],
   "source": [
    "cities_list = [\"San Francisco, California\", \n",
    "               \"Denver, Colorado\", \n",
    "               \"Seattle, Washington\", \n",
    "               \"Los Angeles, California\", \n",
    "               \"New York City, NY\", \n",
    "               \"Chicago, Illinois\", \n",
    "               \"Austin, Texas\", \n",
    "               \"Boston, Massachusetts\",\n",
    "               \"Houston, Texas\",\n",
    "               \"Phoenix, Arizona\",\n",
    "               \"San Antonio, Texas\",\n",
    "               \"San Diego, California\",\n",
    "               \"Dallas, Texas\"\n",
    "              ]\n",
    "cities = geopy_utils.get_coordinates_df(cities_list)\n",
    "cities"
   ]
  },
  {
   "cell_type": "markdown",
   "metadata": {},
   "source": [
    "# Setting up Foursquare API"
   ]
  },
  {
   "cell_type": "code",
   "execution_count": 9,
   "metadata": {},
   "outputs": [],
   "source": [
    "from src import config\n",
    "from src import foursquare_utils"
   ]
  },
  {
   "cell_type": "code",
   "execution_count": 10,
   "metadata": {},
   "outputs": [],
   "source": [
    "# Defining credentials and version\n",
    "CLIENT_ID = config.CLIENT_ID # your Foursquare ID\n",
    "CLIENT_SECRET = config.CLIENT_SECRET # your Foursquare Secret\n",
    "VERSION = '20180604'"
   ]
  },
  {
   "cell_type": "code",
   "execution_count": 11,
   "metadata": {},
   "outputs": [],
   "source": [
    "results_dir = \"Example/\""
   ]
  },
  {
   "cell_type": "code",
   "execution_count": 12,
   "metadata": {},
   "outputs": [
    {
     "name": "stdout",
     "output_type": "stream",
     "text": [
      "Directory exists. Re-initializing...\n",
      "Gathering location information...\n",
      "Finished.\n",
      "Gathering venues in  San Francisco\n",
      "Gathering venues in  Denver\n",
      "Gathering venues in  Seattle\n",
      "Gathering venues in  Los Angeles\n",
      "Gathering venues in  New York City\n",
      "Gathering venues in  Chicago\n",
      "Gathering venues in  Austin\n",
      "Gathering venues in  Boston\n",
      "Gathering venues in  Houston\n",
      "Gathering venues in  Phoenix\n",
      "Gathering venues in  San Antonio\n",
      "Gathering venues in  San Diego\n",
      "Gathering venues in  Dallas\n"
     ]
    },
    {
     "name": "stderr",
     "output_type": "stream",
     "text": [
      "/Users/pedrovicentevaldez/Desktop/GithubPages/foursquare_city_clustering/src/foursquare_utils.py:93: FutureWarning: pandas.io.json.json_normalize is deprecated, use pandas.json_normalize instead\n",
      "  rating = json_normalize(data_rat)\n"
     ]
    },
    {
     "name": "stdout",
     "output_type": "stream",
     "text": [
      "There are 68 uniques venue categories.\n",
      "Finished\n"
     ]
    }
   ],
   "source": [
    "foursquare_utils.get_analysis_per_city(cities_list, num_venues=10, radius=1000, clusters=3, saving_dir=results_dir)"
   ]
  },
  {
   "cell_type": "code",
   "execution_count": null,
   "metadata": {},
   "outputs": [],
   "source": []
  }
 ],
 "metadata": {
  "kernelspec": {
   "display_name": "Python 3",
   "language": "python",
   "name": "python3"
  },
  "language_info": {
   "codemirror_mode": {
    "name": "ipython",
    "version": 3
   },
   "file_extension": ".py",
   "mimetype": "text/x-python",
   "name": "python",
   "nbconvert_exporter": "python",
   "pygments_lexer": "ipython3",
   "version": "3.7.9"
  }
 },
 "nbformat": 4,
 "nbformat_minor": 4
}
